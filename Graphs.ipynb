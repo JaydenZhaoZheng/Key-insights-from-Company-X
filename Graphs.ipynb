{
 "cells": [
  {
   "cell_type": "code",
   "execution_count": 19,
   "id": "3d7c0b9e-675f-49bd-a3a0-86ae682e81c5",
   "metadata": {},
   "outputs": [
    {
     "name": "stdout",
     "output_type": "stream",
     "text": [
      "Graphs have been generated and saved as PNG files.\n"
     ]
    }
   ],
   "source": [
    "import pandas as pd\n",
    "import matplotlib.pyplot as plt\n",
    "import seaborn as sns\n",
    "\n",
    "# Read the CSV file\n",
    "df = pd.read_csv('C:/Users/Jayjeng/Desktop/Stuff/Work-related/Data Analytics/BMO Interview Prep/Second Round/Data set - #1 v2.csv')\n",
    "\n",
    "# Data cleaning\n",
    "# Replace problematic entries with NaN and remove them\n",
    "df['Sales'] = df['Sales'].str.replace('$', '').str.replace(',', '')\n",
    "df['Sales'] = pd.to_numeric(df['Sales'], errors='coerce')  # Convert to float, setting errors='coerce' to handle invalid strings\n",
    "\n",
    "# Drop rows with NaN values in 'Sales' after conversion\n",
    "df = df.dropna(subset=['Sales'])\n",
    "\n",
    "# Convert 'Year' and 'Month' to a 'Date' column\n",
    "df['Date'] = pd.to_datetime(df['Year'].astype(str) + '-' + df['Month'], format='%Y-%B')\n",
    "\n",
    "# 1. Monthly Sales Trends Over Years\n",
    "plt.figure(figsize=(12, 6))\n",
    "monthly_sales = df.groupby('Date')['Sales'].sum().reset_index()\n",
    "sns.lineplot(x='Date', y='Sales', data=monthly_sales)\n",
    "plt.title('Monthly Sales Trends (2013-2015)')\n",
    "plt.xlabel('Date')\n",
    "plt.ylabel('Total Sales ($)')\n",
    "plt.xticks(rotation=45)\n",
    "plt.tight_layout()\n",
    "plt.savefig('monthly_sales_trends.png')\n",
    "plt.close()\n",
    "\n",
    "# 2. Seasonal Patterns in Sales\n",
    "plt.figure(figsize=(12, 6))\n",
    "df['Month'] = pd.to_datetime(df['Month'], format='%B').dt.month\n",
    "seasonal_sales = df.groupby('Month')['Sales'].mean().reset_index()\n",
    "sns.barplot(x='Month', y='Sales', data=seasonal_sales)\n",
    "plt.title('Average Monthly Sales (Seasonal Pattern)')\n",
    "plt.xlabel('Month')\n",
    "plt.ylabel('Average Sales ($)')\n",
    "plt.xticks(range(12), ['Jan', 'Feb', 'Mar', 'Apr', 'May', 'Jun', 'Jul', 'Aug', 'Sep', 'Oct', 'Nov', 'Dec'])\n",
    "plt.tight_layout()\n",
    "plt.savefig('seasonal_sales_pattern.png')\n",
    "plt.close()\n",
    "\n",
    "# 3. Appointments vs. Sales Correlation\n",
    "plt.figure(figsize=(10, 6))\n",
    "sns.scatterplot(x='Appointments', y='Sales', data=df)\n",
    "plt.title('Correlation between Appointments and Sales')\n",
    "plt.xlabel('Number of Appointments')\n",
    "plt.ylabel('Sales ($)')\n",
    "plt.tight_layout()\n",
    "plt.savefig('appointments_vs_sales.png')\n",
    "plt.close()\n",
    "\n",
    "print(\"Graphs have been generated and saved as PNG files.\")\n"
   ]
  },
  {
   "cell_type": "code",
   "execution_count": null,
   "id": "21e18023-08e8-4886-a44c-6db995e763a0",
   "metadata": {},
   "outputs": [],
   "source": []
  }
 ],
 "metadata": {
  "kernelspec": {
   "display_name": "Python 3 (ipykernel)",
   "language": "python",
   "name": "python3"
  },
  "language_info": {
   "codemirror_mode": {
    "name": "ipython",
    "version": 3
   },
   "file_extension": ".py",
   "mimetype": "text/x-python",
   "name": "python",
   "nbconvert_exporter": "python",
   "pygments_lexer": "ipython3",
   "version": "3.12.4"
  }
 },
 "nbformat": 4,
 "nbformat_minor": 5
}
